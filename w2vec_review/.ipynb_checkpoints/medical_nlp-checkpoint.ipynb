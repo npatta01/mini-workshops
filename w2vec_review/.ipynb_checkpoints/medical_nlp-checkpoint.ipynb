{
 "cells": [
  {
   "cell_type": "markdown",
   "metadata": {},
   "source": [
    "# References"
   ]
  },
  {
   "cell_type": "markdown",
   "metadata": {},
   "source": [
    "[A Comparison of Word Embeddings for the Biomedical Natural Language Processing](https://arxiv.org/pdf/1802.00400.pdf)\n",
    "\n",
    "[Applying deep learning techniques on medical corpora from the World Wide Web: a prototypical system and evaluation](https://arxiv.org/pdf/1502.03682.pdf)\n",
    "\n",
    "[Open Access Subset](https://www.ncbi.nlm.nih.gov/pmc/tools/openftlist/)"
   ]
  },
  {
   "cell_type": "code",
   "execution_count": null,
   "metadata": {},
   "outputs": [],
   "source": []
  }
 ],
 "metadata": {
  "kernelspec": {
   "display_name": "Python [conda env:py36]",
   "language": "python",
   "name": "conda-env-py36-py"
  },
  "language_info": {
   "codemirror_mode": {
    "name": "ipython",
    "version": 3
   },
   "file_extension": ".py",
   "mimetype": "text/x-python",
   "name": "python",
   "nbconvert_exporter": "python",
   "pygments_lexer": "ipython3",
   "version": "3.6.5"
  }
 },
 "nbformat": 4,
 "nbformat_minor": 2
}
