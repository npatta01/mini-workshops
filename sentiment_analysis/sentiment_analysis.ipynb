{
 "cells": [
  {
   "cell_type": "markdown",
   "metadata": {
    "colab_type": "text",
    "id": "8KI0G3ZqpUwb"
   },
   "source": [
    "# LSTM for sequence classification in the IMDB dataset\n"
   ]
  },
  {
   "cell_type": "markdown",
   "metadata": {
    "colab_type": "text",
    "id": "B8JOdhpmrIm6"
   },
   "source": [
    "## References\n",
    "- https://machinelearningmastery.com/sequence-classification-lstm-recurrent-neural-networks-python-keras/\n",
    "- https://www.kaggle.com/c/word2vec-nlp-tutorial/data\n",
    "- https://medium.com/@sabber/classifying-yelp-review-comments-using-cnn-lstm-and-pre-trained-glove-word-embeddings-part-3-53fcea9a17fa\n",
    "- https://www.oreilly.com/ideas/convolutional-neural-networks-for-language-tasks\n",
    "- http://ruder.io/text-classification-tensorflow-estimators/\n"
   ]
  },
  {
   "cell_type": "markdown",
   "metadata": {
    "colab_type": "text",
    "id": "VNGk8Mt2X6pO"
   },
   "source": [
    "## Problem Description "
   ]
  },
  {
   "cell_type": "markdown",
   "metadata": {
    "colab_type": "text",
    "id": "1hQaiCbRYCgz"
   },
   "source": [
    "Our dataset is IMDB movie review sentiment classification problem. Each movie review is a variable sequence of words and the sentiment of each movie review must be classified.\n",
    "\n",
    "The dataset contains 25,000 highly-polar movie reviews (good or bad) for training and the same amount again for testing. The problem is to determine whether a given movie review has a positive or negative sentiment.\n",
    "\n",
    "The data was collected by Stanford researchers and was used in a 2011 paperwhere an accuracy of 88.89% was achieved.\n",
    "\n"
   ]
  },
  {
   "cell_type": "markdown",
   "metadata": {},
   "source": [
    "## Setup"
   ]
  },
  {
   "cell_type": "code",
   "execution_count": null,
   "metadata": {
    "ExecuteTime": {
     "end_time": "2018-08-08T04:16:05.249432Z",
     "start_time": "2018-08-08T04:15:03.799387Z"
    }
   },
   "outputs": [],
   "source": [
    "!conda install -c conda-forge textacy gensim=3.4.0 spacy=1.9.0  seaborn=0.9.0 -y -q"
   ]
  },
  {
   "cell_type": "code",
   "execution_count": null,
   "metadata": {
    "ExecuteTime": {
     "end_time": "2018-08-06T02:23:04.151478Z",
     "start_time": "2018-08-06T02:23:00.087105Z"
    },
    "colab": {
     "autoexec": {
      "startup": false,
      "wait_interval": 0
     }
    },
    "colab_type": "code",
    "id": "2_-YBSx-7RrV"
   },
   "outputs": [],
   "source": [
    "!pip install -q kaggle ipywidgets textblob  swifter keras tensorflow"
   ]
  },
  {
   "cell_type": "markdown",
   "metadata": {},
   "source": [
    "**Download a pretrained english model**"
   ]
  },
  {
   "cell_type": "code",
   "execution_count": null,
   "metadata": {
    "ExecuteTime": {
     "end_time": "2018-08-08T04:17:35.174328Z",
     "start_time": "2018-08-08T04:17:25.412385Z"
    },
    "colab": {
     "autoexec": {
      "startup": false,
      "wait_interval": 0
     },
     "base_uri": "https://localhost:8080/",
     "height": 258
    },
    "colab_type": "code",
    "executionInfo": {
     "elapsed": 6912,
     "status": "ok",
     "timestamp": 1533516674242,
     "user": {
      "displayName": "Nidhin Pattaniyil",
      "photoUrl": "//lh5.googleusercontent.com/-OtrQxIXHsCc/AAAAAAAAAAI/AAAAAAAAGSY/K7Hn50xuF-A/s50-c-k-no/photo.jpg",
      "userId": "101215116295448156693"
     },
     "user_tz": 240
    },
    "id": "tXYlELPot0e6",
    "outputId": "54ebc03e-cfbd-4b70-ce15-b045472821be"
   },
   "outputs": [],
   "source": [
    "!python -m spacy download en"
   ]
  },
  {
   "cell_type": "code",
   "execution_count": 1,
   "metadata": {
    "ExecuteTime": {
     "end_time": "2018-08-08T05:59:41.607213Z",
     "start_time": "2018-08-08T05:59:41.603302Z"
    },
    "colab": {
     "autoexec": {
      "startup": false,
      "wait_interval": 0
     }
    },
    "colab_type": "code",
    "id": "Ol1iWJGHCtSE"
   },
   "outputs": [
    {
     "name": "stderr",
     "output_type": "stream",
     "text": [
      "/Users/nidhin.pattaniyil/anaconda3/envs/py36/lib/python3.6/importlib/_bootstrap.py:219: RuntimeWarning: numpy.dtype size changed, may indicate binary incompatibility. Expected 96, got 88\n",
      "  return f(*args, **kwds)\n",
      "/Users/nidhin.pattaniyil/anaconda3/envs/py36/lib/python3.6/importlib/_bootstrap.py:219: RuntimeWarning: numpy.dtype size changed, may indicate binary incompatibility. Expected 96, got 88\n",
      "  return f(*args, **kwds)\n",
      "/Users/nidhin.pattaniyil/anaconda3/envs/py36/lib/python3.6/importlib/_bootstrap.py:219: RuntimeWarning: numpy.dtype size changed, may indicate binary incompatibility. Expected 96, got 88\n",
      "  return f(*args, **kwds)\n",
      "/Users/nidhin.pattaniyil/anaconda3/envs/py36/lib/python3.6/importlib/_bootstrap.py:219: RuntimeWarning: numpy.dtype size changed, may indicate binary incompatibility. Expected 96, got 88\n",
      "  return f(*args, **kwds)\n",
      "/Users/nidhin.pattaniyil/anaconda3/envs/py36/lib/python3.6/importlib/_bootstrap.py:219: RuntimeWarning: numpy.dtype size changed, may indicate binary incompatibility. Expected 96, got 88\n",
      "  return f(*args, **kwds)\n",
      "/Users/nidhin.pattaniyil/anaconda3/envs/py36/lib/python3.6/importlib/_bootstrap.py:219: RuntimeWarning: numpy.dtype size changed, may indicate binary incompatibility. Expected 96, got 88\n",
      "  return f(*args, **kwds)\n",
      "/Users/nidhin.pattaniyil/anaconda3/envs/py36/lib/python3.6/site-packages/h5py/__init__.py:36: FutureWarning: Conversion of the second argument of issubdtype from `float` to `np.floating` is deprecated. In future, it will be treated as `np.float64 == np.dtype(float).type`.\n",
      "  from ._conv import register_converters as _register_converters\n",
      "Using TensorFlow backend.\n",
      "/Users/nidhin.pattaniyil/anaconda3/envs/py36/lib/python3.6/importlib/_bootstrap.py:219: RuntimeWarning: numpy.dtype size changed, may indicate binary incompatibility. Expected 96, got 88\n",
      "  return f(*args, **kwds)\n",
      "/Users/nidhin.pattaniyil/anaconda3/envs/py36/lib/python3.6/importlib/_bootstrap.py:219: RuntimeWarning: numpy.dtype size changed, may indicate binary incompatibility. Expected 96, got 88\n",
      "  return f(*args, **kwds)\n",
      "/Users/nidhin.pattaniyil/anaconda3/envs/py36/lib/python3.6/importlib/_bootstrap.py:219: RuntimeWarning: numpy.dtype size changed, may indicate binary incompatibility\n",
      "  return f(*args, **kwds)\n",
      "/Users/nidhin.pattaniyil/anaconda3/envs/py36/lib/python3.6/importlib/_bootstrap.py:219: RuntimeWarning: numpy.ufunc size changed, may indicate binary incompatibility\n",
      "  return f(*args, **kwds)\n"
     ]
    }
   ],
   "source": [
    "import json\n",
    "import os\n",
    "import shutil\n",
    "import pandas as pd\n",
    "import pprint\n",
    "from textblob import TextBlob\n",
    "import numpy as np\n",
    "from swifter import swiftapply\n",
    "from numba import jit\n",
    "\n",
    "from tqdm import tqdm\n",
    "import numpy\n",
    "from keras.datasets import imdb\n",
    "from keras.preprocessing import sequence\n",
    "from keras.models import Sequential\n",
    "from keras.layers import Dense, LSTM, Dropout, Conv1D\n",
    "from keras.layers.embeddings import Embedding\n",
    "\n",
    "from bs4 import BeautifulSoup\n",
    "\n",
    "import seaborn as sns\n",
    "import spacy    \n",
    "from sklearn import metrics\n",
    "from sklearn.model_selection import train_test_split"
   ]
  },
  {
   "cell_type": "code",
   "execution_count": 2,
   "metadata": {
    "ExecuteTime": {
     "end_time": "2018-08-08T05:42:14.187444Z",
     "start_time": "2018-08-08T05:42:14.182652Z"
    },
    "scrolled": true
   },
   "outputs": [
    {
     "data": {
      "text/plain": [
       "'0.9.0'"
      ]
     },
     "execution_count": 2,
     "metadata": {},
     "output_type": "execute_result"
    }
   ],
   "source": [
    "sns.__version__"
   ]
  },
  {
   "cell_type": "code",
   "execution_count": 3,
   "metadata": {
    "ExecuteTime": {
     "end_time": "2018-08-08T05:42:14.193346Z",
     "start_time": "2018-08-08T05:42:14.189293Z"
    }
   },
   "outputs": [
    {
     "data": {
      "text/plain": [
       "'1.9.0'"
      ]
     },
     "execution_count": 3,
     "metadata": {},
     "output_type": "execute_result"
    }
   ],
   "source": [
    "spacy.__version__"
   ]
  },
  {
   "cell_type": "code",
   "execution_count": 4,
   "metadata": {
    "ExecuteTime": {
     "end_time": "2018-08-08T05:42:44.199638Z",
     "start_time": "2018-08-08T05:42:41.031468Z"
    }
   },
   "outputs": [],
   "source": [
    "nlp = spacy.load(\"en\")\n",
    "#nlp = spacy.load(\"en\""
   ]
  },
  {
   "cell_type": "code",
   "execution_count": null,
   "metadata": {
    "ExecuteTime": {
     "end_time": "2018-08-08T05:42:44.217971Z",
     "start_time": "2018-08-08T05:42:44.201681Z"
    }
   },
   "outputs": [],
   "source": []
  },
  {
   "cell_type": "code",
   "execution_count": null,
   "metadata": {},
   "outputs": [],
   "source": []
  },
  {
   "cell_type": "code",
   "execution_count": 5,
   "metadata": {
    "ExecuteTime": {
     "end_time": "2018-08-08T05:42:52.330461Z",
     "start_time": "2018-08-08T05:42:52.327797Z"
    },
    "colab": {
     "autoexec": {
      "startup": false,
      "wait_interval": 0
     }
    },
    "colab_type": "code",
    "id": "nDlAjNjmJI6a"
   },
   "outputs": [],
   "source": [
    "#pd.set_option('display.height', 1000)\n",
    "#pd.set_option('display.max_rows', 500)\n",
    "#pd.set_option('display.max_columns', 500)\n",
    "#pd.set_option('display.width', 1000)\n",
    "#pd.set_option('display.expand_frame_repr', False)\n",
    "pd.options.display.max_colwidth = 500"
   ]
  },
  {
   "cell_type": "markdown",
   "metadata": {},
   "source": [
    "**Download Dataset**"
   ]
  },
  {
   "cell_type": "code",
   "execution_count": 6,
   "metadata": {
    "ExecuteTime": {
     "end_time": "2018-08-08T05:42:52.986742Z",
     "start_time": "2018-08-08T05:42:52.984090Z"
    },
    "colab": {
     "autoexec": {
      "startup": false,
      "wait_interval": 0
     }
    },
    "colab_type": "code",
    "id": "LScjv2OwCC2d"
   },
   "outputs": [],
   "source": [
    "kaggle_token=json.loads(\"\"\"\n",
    "{\"username\":\"npatta01\",\"key\":\"61ebcf3b4a3fc7ebfe7aee570d8dc07c\"}\n",
    "\"\"\")"
   ]
  },
  {
   "cell_type": "code",
   "execution_count": 7,
   "metadata": {
    "ExecuteTime": {
     "end_time": "2018-08-08T05:42:54.482253Z",
     "start_time": "2018-08-08T05:42:54.479329Z"
    },
    "colab": {
     "autoexec": {
      "startup": false,
      "wait_interval": 0
     }
    },
    "colab_type": "code",
    "id": "3julHwtsCSRX"
   },
   "outputs": [],
   "source": [
    "COMPETITION=\"word2vec-nlp-tutorial\""
   ]
  },
  {
   "cell_type": "code",
   "execution_count": 10,
   "metadata": {
    "ExecuteTime": {
     "end_time": "2018-08-08T02:36:19.026919Z",
     "start_time": "2018-08-08T02:36:18.769814Z"
    },
    "colab": {
     "autoexec": {
      "startup": false,
      "wait_interval": 0
     }
    },
    "colab_type": "code",
    "id": "SWHBkGyOCDKj"
   },
   "outputs": [],
   "source": [
    "!mkdir -p ~/.kaggle\n",
    "!echo {json.dumps(kaggle_token)} > ~/.kaggle/kaggle.json\n",
    "#!chmod 600 ~/.kaggle/kaggle.json"
   ]
  },
  {
   "cell_type": "code",
   "execution_count": 8,
   "metadata": {
    "ExecuteTime": {
     "end_time": "2018-08-08T05:42:57.431821Z",
     "start_time": "2018-08-08T05:42:57.429331Z"
    },
    "colab": {
     "autoexec": {
      "startup": false,
      "wait_interval": 0
     }
    },
    "colab_type": "code",
    "id": "berOAuZbDBT2"
   },
   "outputs": [],
   "source": [
    "PATH = os.path.expanduser(\"~/.kaggle\")"
   ]
  },
  {
   "cell_type": "code",
   "execution_count": 9,
   "metadata": {
    "ExecuteTime": {
     "end_time": "2018-08-08T02:56:10.210542Z",
     "start_time": "2018-08-08T02:56:10.205157Z"
    }
   },
   "outputs": [],
   "source": [
    "shutil.rmtree(PATH,ignore_errors=True)\n",
    "os.makedirs(PATH)"
   ]
  },
  {
   "cell_type": "code",
   "execution_count": 11,
   "metadata": {
    "ExecuteTime": {
     "end_time": "2018-08-08T05:42:59.452176Z",
     "start_time": "2018-08-08T05:42:59.447484Z"
    },
    "colab": {
     "autoexec": {
      "startup": false,
      "wait_interval": 0
     }
    },
    "colab_type": "code",
    "id": "svy7kFspCRos"
   },
   "outputs": [],
   "source": [
    "with open(f'{PATH}/kaggle.json', 'w') as outfile:\n",
    "    json.dump(kaggle_token, outfile)\n",
    "    \n",
    "#with open(f'/content/.kaggle/kaggle.json', 'w') as outfile:\n",
    "#    json.dump(kaggle_token, outfile)    \n",
    "    \n",
    "    \n"
   ]
  },
  {
   "cell_type": "code",
   "execution_count": 12,
   "metadata": {
    "ExecuteTime": {
     "end_time": "2018-08-08T02:56:23.867444Z",
     "start_time": "2018-08-08T02:56:15.902309Z"
    },
    "colab": {
     "autoexec": {
      "startup": false,
      "wait_interval": 0
     },
     "base_uri": "https://localhost:8080/",
     "height": 221
    },
    "colab_type": "code",
    "executionInfo": {
     "elapsed": 5147,
     "status": "ok",
     "timestamp": 1533507275578,
     "user": {
      "displayName": "Nidhin Pattaniyil",
      "photoUrl": "//lh5.googleusercontent.com/-OtrQxIXHsCc/AAAAAAAAAAI/AAAAAAAAGSY/K7Hn50xuF-A/s50-c-k-no/photo.jpg",
      "userId": "101215116295448156693"
     },
     "user_tz": 240
    },
    "id": "1lhSrftUEMbh",
    "outputId": "4a553671-56a8-4238-e9d9-ee5f11434d46"
   },
   "outputs": [
    {
     "name": "stdout",
     "output_type": "stream",
     "text": [
      "Downloading sampleSubmission.csv to /Users/nidhin.pattaniyil/.kaggle/word2vec-nlp-tutorial\n",
      "  0%|                                                | 0.00/276k [00:00<?, ?B/s]\n",
      "100%|████████████████████████████████████████| 276k/276k [00:00<00:00, 27.6MB/s]\n",
      "Downloading unlabeledTrainData.tsv.zip to /Users/nidhin.pattaniyil/.kaggle/word2vec-nlp-tutorial\n",
      " 99%|█████████████████████████████████████▍| 26.0M/26.4M [00:02<00:00, 11.7MB/s]\n",
      "100%|██████████████████████████████████████| 26.4M/26.4M [00:02<00:00, 11.8MB/s]\n",
      "Downloading testData.tsv.zip to /Users/nidhin.pattaniyil/.kaggle/word2vec-nlp-tutorial\n",
      " 93%|███████████████████████████████████▌  | 12.0M/12.8M [00:01<00:00, 12.2MB/s]\n",
      "100%|██████████████████████████████████████| 12.8M/12.8M [00:01<00:00, 12.1MB/s]\n",
      "Downloading labeledTrainData.tsv.zip to /Users/nidhin.pattaniyil/.kaggle/word2vec-nlp-tutorial\n",
      "100%|██████████████████████████████████████| 13.1M/13.1M [00:01<00:00, 11.9MB/s]\n",
      "\n"
     ]
    }
   ],
   "source": [
    "!chmod 600 ~/.kaggle/kaggle.json\n",
    "!kaggle competitions download -c {COMPETITION} --path {PATH}/{COMPETITION} "
   ]
  },
  {
   "cell_type": "code",
   "execution_count": 13,
   "metadata": {
    "ExecuteTime": {
     "end_time": "2018-08-08T05:43:02.386379Z",
     "start_time": "2018-08-08T05:43:02.381977Z"
    },
    "colab": {
     "autoexec": {
      "startup": false,
      "wait_interval": 0
     }
    },
    "colab_type": "code",
    "id": "Jl7Md_TEJR3i"
   },
   "outputs": [],
   "source": [
    "#@jit\n",
    "def parse_html(doc):\n",
    "    \"\"\"Remove html from text\"\"\"\n",
    "    soup = BeautifulSoup(doc, \"lxml\")\n",
    "    doc = soup.get_text()\n",
    "    return doc\n",
    "\n",
    "def prepare_single(doc, parts_of_speech=None):\n",
    "    \"\"\"\n",
    "    Call prepare on single doc\n",
    "    \"\"\"\n",
    "    return list (prepare([doc],parts_of_speech=parts_of_speech))[0]\n",
    "\n",
    "\n",
    "def prepare(docs, n_threads=10, parts_of_speech=None, process_entity=False, process_tag=True, process_parse=False):\n",
    "    \"\"\"\n",
    "    Use Spacy pipleines to \n",
    "    - ignore stopwords\n",
    "    - take word lemma\n",
    "    \"\"\"\n",
    "    for doc in nlp.pipe(tqdm(docs), entity=process_entity, tag=process_tag\n",
    "                        , parse=process_parse, n_threads=n_threads, batch_size=1000):\n",
    "        tokens = []\n",
    "        for token in doc:\n",
    "            if not token.is_stop:\n",
    "                tokens.append(token.lemma_)\n",
    "                #print(token, token.lemma, token.lemma_,token.pos_,token.is_stop)\n",
    "\n",
    "        yield tokens\n",
    "\n",
    "\n"
   ]
  },
  {
   "cell_type": "code",
   "execution_count": 14,
   "metadata": {
    "ExecuteTime": {
     "end_time": "2018-08-08T05:43:04.878330Z",
     "start_time": "2018-08-08T05:43:04.870076Z"
    }
   },
   "outputs": [
    {
     "name": "stderr",
     "output_type": "stream",
     "text": [
      "100%|██████████| 1/1 [00:00<00:00, 603.15it/s]\n"
     ]
    },
    {
     "data": {
      "text/plain": [
       "['hi', 'tom', '.', '?', 'book', 'good', 'read', '.']"
      ]
     },
     "execution_count": 14,
     "metadata": {},
     "output_type": "execute_result"
    }
   ],
   "source": [
    "prepare_single(\n",
    "        parse_html (\n",
    "        \"<b>hi</b> Tom. How are you? The book is a good read.\"\n",
    "        )\n",
    ")   "
   ]
  },
  {
   "cell_type": "code",
   "execution_count": 15,
   "metadata": {
    "ExecuteTime": {
     "end_time": "2018-08-08T05:43:05.614288Z",
     "start_time": "2018-08-08T05:43:05.055726Z"
    },
    "colab": {
     "autoexec": {
      "startup": false,
      "wait_interval": 0
     }
    },
    "colab_type": "code",
    "id": "YYWoOqWYE6Rr"
   },
   "outputs": [],
   "source": [
    "df = pd.read_csv(f\"{PATH}/{COMPETITION}/labeledTrainData.tsv.zip\", compression='zip',sep='\\t')"
   ]
  },
  {
   "cell_type": "code",
   "execution_count": 16,
   "metadata": {
    "ExecuteTime": {
     "end_time": "2018-08-08T04:20:57.103484Z",
     "start_time": "2018-08-08T04:20:57.095980Z"
    },
    "colab": {
     "autoexec": {
      "startup": false,
      "wait_interval": 0
     },
     "base_uri": "https://localhost:8080/",
     "height": 374
    },
    "colab_type": "code",
    "executionInfo": {
     "elapsed": 448,
     "status": "ok",
     "timestamp": 1533507282504,
     "user": {
      "displayName": "Nidhin Pattaniyil",
      "photoUrl": "//lh5.googleusercontent.com/-OtrQxIXHsCc/AAAAAAAAAAI/AAAAAAAAGSY/K7Hn50xuF-A/s50-c-k-no/photo.jpg",
      "userId": "101215116295448156693"
     },
     "user_tz": 240
    },
    "id": "IP5H1MhhE6gX",
    "outputId": "41c9c355-fdf9-4ba7-cd89-be1bcfe35415"
   },
   "outputs": [
    {
     "data": {
      "text/html": [
       "<div>\n",
       "<style scoped>\n",
       "    .dataframe tbody tr th:only-of-type {\n",
       "        vertical-align: middle;\n",
       "    }\n",
       "\n",
       "    .dataframe tbody tr th {\n",
       "        vertical-align: top;\n",
       "    }\n",
       "\n",
       "    .dataframe thead th {\n",
       "        text-align: right;\n",
       "    }\n",
       "</style>\n",
       "<table border=\"1\" class=\"dataframe\">\n",
       "  <thead>\n",
       "    <tr style=\"text-align: right;\">\n",
       "      <th></th>\n",
       "      <th>id</th>\n",
       "      <th>sentiment</th>\n",
       "      <th>review</th>\n",
       "    </tr>\n",
       "  </thead>\n",
       "  <tbody>\n",
       "    <tr>\n",
       "      <th>0</th>\n",
       "      <td>5814_8</td>\n",
       "      <td>1</td>\n",
       "      <td>With all this stuff going down at the moment with MJ i've started listening to his music, watching the odd documentary here and there, watched The Wiz and watched Moonwalker again. Maybe i just want to get a certain insight into this guy who i thought was really cool in the eighties just to maybe make up my mind whether he is guilty or innocent. Moonwalker is part biography, part feature film which i remember going to see at the cinema when it was originally released. Some of it has subtle m...</td>\n",
       "    </tr>\n",
       "    <tr>\n",
       "      <th>1</th>\n",
       "      <td>2381_9</td>\n",
       "      <td>1</td>\n",
       "      <td>\\The Classic War of the Worlds\\\" by Timothy Hines is a very entertaining film that obviously goes to great effort and lengths to faithfully recreate H. G. Wells' classic book. Mr. Hines succeeds in doing so. I, and those who watched his film with me, appreciated the fact that it was not the standard, predictable Hollywood fare that comes out every year, e.g. the Spielberg version with Tom Cruise that had only the slightest resemblance to the book. Obviously, everyone looks for different thin...</td>\n",
       "    </tr>\n",
       "    <tr>\n",
       "      <th>2</th>\n",
       "      <td>7759_3</td>\n",
       "      <td>0</td>\n",
       "      <td>The film starts with a manager (Nicholas Bell) giving welcome investors (Robert Carradine) to Primal Park . A secret project mutating a primal animal using fossilized DNA, like ¨Jurassik Park¨, and some scientists resurrect one of nature's most fearsome predators, the Sabretooth tiger or Smilodon . Scientific ambition turns deadly, however, and when the high voltage fence is opened the creature escape and begins savagely stalking its prey - the human visitors , tourists and scientific.Meanwh...</td>\n",
       "    </tr>\n",
       "    <tr>\n",
       "      <th>3</th>\n",
       "      <td>3630_4</td>\n",
       "      <td>0</td>\n",
       "      <td>It must be assumed that those who praised this film (\\the greatest filmed opera ever,\\\" didn't I read somewhere?) either don't care for opera, don't care for Wagner, or don't care about anything except their desire to appear Cultured. Either as a representation of Wagner's swan-song, or as a movie, this strikes me as an unmitigated disaster, with a leaden reading of the score matched to a tricksy, lugubrious realisation of the text.&lt;br /&gt;&lt;br /&gt;It's questionable that people with ideas as to w...</td>\n",
       "    </tr>\n",
       "    <tr>\n",
       "      <th>4</th>\n",
       "      <td>9495_8</td>\n",
       "      <td>1</td>\n",
       "      <td>Superbly trashy and wondrously unpretentious 80's exploitation, hooray! The pre-credits opening sequences somewhat give the false impression that we're dealing with a serious and harrowing drama, but you need not fear because barely ten minutes later we're up until our necks in nonsensical chainsaw battles, rough fist-fights, lurid dialogs and gratuitous nudity! Bo and Ingrid are two orphaned siblings with an unusually close and even slightly perverted relationship. Can you imagine playfully...</td>\n",
       "    </tr>\n",
       "  </tbody>\n",
       "</table>\n",
       "</div>"
      ],
      "text/plain": [
       "       id  sentiment  \\\n",
       "0  5814_8          1   \n",
       "1  2381_9          1   \n",
       "2  7759_3          0   \n",
       "3  3630_4          0   \n",
       "4  9495_8          1   \n",
       "\n",
       "                                                                                                                                                                                                                                                                                                                                                                                                                                                                                                                review  \n",
       "0  With all this stuff going down at the moment with MJ i've started listening to his music, watching the odd documentary here and there, watched The Wiz and watched Moonwalker again. Maybe i just want to get a certain insight into this guy who i thought was really cool in the eighties just to maybe make up my mind whether he is guilty or innocent. Moonwalker is part biography, part feature film which i remember going to see at the cinema when it was originally released. Some of it has subtle m...  \n",
       "1  \\The Classic War of the Worlds\\\" by Timothy Hines is a very entertaining film that obviously goes to great effort and lengths to faithfully recreate H. G. Wells' classic book. Mr. Hines succeeds in doing so. I, and those who watched his film with me, appreciated the fact that it was not the standard, predictable Hollywood fare that comes out every year, e.g. the Spielberg version with Tom Cruise that had only the slightest resemblance to the book. Obviously, everyone looks for different thin...  \n",
       "2  The film starts with a manager (Nicholas Bell) giving welcome investors (Robert Carradine) to Primal Park . A secret project mutating a primal animal using fossilized DNA, like ¨Jurassik Park¨, and some scientists resurrect one of nature's most fearsome predators, the Sabretooth tiger or Smilodon . Scientific ambition turns deadly, however, and when the high voltage fence is opened the creature escape and begins savagely stalking its prey - the human visitors , tourists and scientific.Meanwh...  \n",
       "3  It must be assumed that those who praised this film (\\the greatest filmed opera ever,\\\" didn't I read somewhere?) either don't care for opera, don't care for Wagner, or don't care about anything except their desire to appear Cultured. Either as a representation of Wagner's swan-song, or as a movie, this strikes me as an unmitigated disaster, with a leaden reading of the score matched to a tricksy, lugubrious realisation of the text.<br /><br />It's questionable that people with ideas as to w...  \n",
       "4  Superbly trashy and wondrously unpretentious 80's exploitation, hooray! The pre-credits opening sequences somewhat give the false impression that we're dealing with a serious and harrowing drama, but you need not fear because barely ten minutes later we're up until our necks in nonsensical chainsaw battles, rough fist-fights, lurid dialogs and gratuitous nudity! Bo and Ingrid are two orphaned siblings with an unusually close and even slightly perverted relationship. Can you imagine playfully...  "
      ]
     },
     "execution_count": 16,
     "metadata": {},
     "output_type": "execute_result"
    }
   ],
   "source": [
    "df.head()"
   ]
  },
  {
   "cell_type": "code",
   "execution_count": 17,
   "metadata": {
    "ExecuteTime": {
     "end_time": "2018-08-08T04:18:23.106447Z",
     "start_time": "2018-08-08T04:18:23.101160Z"
    },
    "colab": {
     "autoexec": {
      "startup": false,
      "wait_interval": 0
     },
     "base_uri": "https://localhost:8080/",
     "height": 442
    },
    "colab_type": "code",
    "executionInfo": {
     "elapsed": 243,
     "status": "ok",
     "timestamp": 1533507438397,
     "user": {
      "displayName": "Nidhin Pattaniyil",
      "photoUrl": "//lh5.googleusercontent.com/-OtrQxIXHsCc/AAAAAAAAAAI/AAAAAAAAGSY/K7Hn50xuF-A/s50-c-k-no/photo.jpg",
      "userId": "101215116295448156693"
     },
     "user_tz": 240
    },
    "id": "Okf5uHevHSGC",
    "outputId": "48039e11-57e3-412c-87bb-2ce1a541595d"
   },
   "outputs": [
    {
     "name": "stdout",
     "output_type": "stream",
     "text": [
      "{'id': '4750_7',\n",
      " 'review': 'In Stand By Me, Vern and Teddy discuss who was tougher, Superman '\n",
      "           'or Mighty Mouse. My friends and I often discuss who would win a '\n",
      "           'fight too. Sometimes we get absurd and compare guys like MacGyver '\n",
      "           'and The Terminator or Rambo and Matrix. But now it seems that we '\n",
      "           'discuss guys like Jackie Chan, Bruce Lee and Jet Li. It is a '\n",
      "           'pointless comparison seeing that Lee is dead, but it is a fun one. '\n",
      "           'And if you go by what we have seen from Jet Li in Lethal 4 and '\n",
      "           'Black Mask, you have to at least say that he would match up well '\n",
      "           'against Chan. In this film he comes across as a martial arts '\n",
      "           'God.<br /><br />Black Mask is about a man that was created along '\n",
      "           'with many other men, to be supreme fighting machines. Their only '\n",
      "           'purpose is to win wars that other people lose. They are invincible '\n",
      "           'in some ways. Now that is the premise for the film, but what that '\n",
      "           'does is sets up all the amazingly choreographed fight scenes.<br '\n",
      "           '/><br />Jet Li is a marvel. He can do things with and to his body '\n",
      "           'that no human being should be able to do. And that is what makes '\n",
      "           'watching him so fun.<br /><br />Besides the martial arts in the '\n",
      "           'film, Black Mask is strong with humour and that is due to the '\n",
      "           'chemistry that Jet has with his co-star, the police officer. They '\n",
      "           'are great together. But to be honest. if anyone is reading this '\n",
      "           'review, they want to know if the film is kick ass in the action '\n",
      "           'department. And the answer to that is a resounding YES!!! Lots and '\n",
      "           'lots of gory mindless action. You will love this film.',\n",
      " 'sentiment': 1}\n"
     ]
    }
   ],
   "source": [
    "row =510\n",
    "pprint.pprint(df.iloc[row].to_dict())"
   ]
  },
  {
   "cell_type": "markdown",
   "metadata": {},
   "source": [
    "## Textblob"
   ]
  },
  {
   "cell_type": "code",
   "execution_count": 18,
   "metadata": {
    "ExecuteTime": {
     "end_time": "2018-08-08T04:18:23.551438Z",
     "start_time": "2018-08-08T04:18:23.548593Z"
    },
    "colab": {
     "autoexec": {
      "startup": false,
      "wait_interval": 0
     }
    },
    "colab_type": "code",
    "id": "y6-xCrOjKvDc"
   },
   "outputs": [],
   "source": [
    "res = TextBlob(df.iloc[row][\"review\"])"
   ]
  },
  {
   "cell_type": "code",
   "execution_count": 19,
   "metadata": {
    "ExecuteTime": {
     "end_time": "2018-08-08T04:18:25.669455Z",
     "start_time": "2018-08-08T04:18:25.619913Z"
    },
    "colab": {
     "autoexec": {
      "startup": false,
      "wait_interval": 0
     },
     "base_uri": "https://localhost:8080/",
     "height": 34
    },
    "colab_type": "code",
    "executionInfo": {
     "elapsed": 243,
     "status": "ok",
     "timestamp": 1533508459079,
     "user": {
      "displayName": "Nidhin Pattaniyil",
      "photoUrl": "//lh5.googleusercontent.com/-OtrQxIXHsCc/AAAAAAAAAAI/AAAAAAAAGSY/K7Hn50xuF-A/s50-c-k-no/photo.jpg",
      "userId": "101215116295448156693"
     },
     "user_tz": 240
    },
    "id": "O9fQosuYKvV-",
    "outputId": "54ec3583-79bc-46e2-a622-5e291f8fc989"
   },
   "outputs": [
    {
     "data": {
      "text/plain": [
       "Sentiment(polarity=0.13822544642857143, subjectivity=0.5142857142857142)"
      ]
     },
     "execution_count": 19,
     "metadata": {},
     "output_type": "execute_result"
    }
   ],
   "source": [
    "res.sentiment"
   ]
  },
  {
   "cell_type": "code",
   "execution_count": 20,
   "metadata": {
    "ExecuteTime": {
     "end_time": "2018-08-08T04:18:31.579644Z",
     "start_time": "2018-08-08T04:18:31.575350Z"
    },
    "colab": {
     "autoexec": {
      "startup": false,
      "wait_interval": 0
     },
     "base_uri": "https://localhost:8080/",
     "height": 34
    },
    "colab_type": "code",
    "executionInfo": {
     "elapsed": 305,
     "status": "ok",
     "timestamp": 1533509896964,
     "user": {
      "displayName": "Nidhin Pattaniyil",
      "photoUrl": "//lh5.googleusercontent.com/-OtrQxIXHsCc/AAAAAAAAAAI/AAAAAAAAGSY/K7Hn50xuF-A/s50-c-k-no/photo.jpg",
      "userId": "101215116295448156693"
     },
     "user_tz": 240
    },
    "id": "QcCd_eJcTzUL",
    "outputId": "1b03bc96-6e35-47a1-fd69-c73f836d72d7"
   },
   "outputs": [
    {
     "data": {
      "text/plain": [
       "2302"
      ]
     },
     "execution_count": 20,
     "metadata": {},
     "output_type": "execute_result"
    }
   ],
   "source": [
    "len(df.iloc[0][\"review\"])"
   ]
  },
  {
   "cell_type": "markdown",
   "metadata": {
    "colab_type": "text",
    "id": "5YBnSFc7OuB0"
   },
   "source": [
    "The polarity score is a float within the range [-1.0, 1.0].      \n",
    "The subjectivity is a float within the range [0.0, 1.0] where 0.0 is very objective and 1.0 is very subjective."
   ]
  },
  {
   "cell_type": "code",
   "execution_count": 21,
   "metadata": {
    "ExecuteTime": {
     "end_time": "2018-08-08T04:18:35.552553Z",
     "start_time": "2018-08-08T04:18:35.548530Z"
    },
    "colab": {
     "autoexec": {
      "startup": false,
      "wait_interval": 0
     }
    },
    "colab_type": "code",
    "id": "6T77w4kLKv1O"
   },
   "outputs": [
    {
     "data": {
      "text/plain": [
       "Sentiment(polarity=0.7, subjectivity=0.6000000000000001)"
      ]
     },
     "execution_count": 21,
     "metadata": {},
     "output_type": "execute_result"
    }
   ],
   "source": [
    "TextBlob(\"good movie\").sentiment"
   ]
  },
  {
   "cell_type": "code",
   "execution_count": 22,
   "metadata": {
    "ExecuteTime": {
     "end_time": "2018-08-08T04:18:36.353547Z",
     "start_time": "2018-08-08T04:18:36.349266Z"
    }
   },
   "outputs": [
    {
     "data": {
      "text/plain": [
       "Sentiment(polarity=0.7, subjectivity=0.6000000000000001)"
      ]
     },
     "execution_count": 22,
     "metadata": {},
     "output_type": "execute_result"
    }
   ],
   "source": [
    "TextBlob(\"good movie\".lower()).sentiment"
   ]
  },
  {
   "cell_type": "code",
   "execution_count": 23,
   "metadata": {
    "ExecuteTime": {
     "end_time": "2018-08-08T04:18:37.142715Z",
     "start_time": "2018-08-08T04:18:37.139964Z"
    }
   },
   "outputs": [],
   "source": [
    "# Spacy"
   ]
  },
  {
   "cell_type": "code",
   "execution_count": 24,
   "metadata": {
    "ExecuteTime": {
     "end_time": "2018-08-08T03:56:28.448238Z",
     "start_time": "2018-08-08T03:56:28.445714Z"
    }
   },
   "outputs": [],
   "source": [
    "#tqdm.pandas(desc=\"my bar!\")"
   ]
  },
  {
   "cell_type": "code",
   "execution_count": null,
   "metadata": {},
   "outputs": [],
   "source": []
  },
  {
   "cell_type": "code",
   "execution_count": 25,
   "metadata": {
    "ExecuteTime": {
     "end_time": "2018-08-08T05:43:29.855321Z",
     "start_time": "2018-08-08T05:43:22.364561Z"
    }
   },
   "outputs": [],
   "source": [
    "df['review'] = swiftapply( df['review'], parse_html)"
   ]
  },
  {
   "cell_type": "code",
   "execution_count": 26,
   "metadata": {
    "ExecuteTime": {
     "end_time": "2018-08-08T05:44:18.564887Z",
     "start_time": "2018-08-08T05:43:29.857335Z"
    }
   },
   "outputs": [
    {
     "name": "stderr",
     "output_type": "stream",
     "text": [
      "100%|██████████| 25000/25000 [01:33<00:00, 268.46it/s]\n"
     ]
    }
   ],
   "source": [
    "df['processed'] = list(prepare(df['review']))\n",
    "df['processed'] = df['processed'].astype(str)"
   ]
  },
  {
   "cell_type": "code",
   "execution_count": null,
   "metadata": {},
   "outputs": [],
   "source": []
  },
  {
   "cell_type": "code",
   "execution_count": 27,
   "metadata": {
    "ExecuteTime": {
     "end_time": "2018-08-08T02:43:54.117215Z",
     "start_time": "2018-08-08T02:39:16.594Z"
    }
   },
   "outputs": [],
   "source": [
    "#reviews = df['review'].apply(prepare)"
   ]
  },
  {
   "cell_type": "code",
   "execution_count": 28,
   "metadata": {
    "ExecuteTime": {
     "end_time": "2018-08-08T05:44:20.753528Z",
     "start_time": "2018-08-08T05:44:20.750529Z"
    },
    "colab": {
     "autoexec": {
      "startup": false,
      "wait_interval": 0
     }
    },
    "colab_type": "code",
    "id": "oeXd-F8VCBtQ"
   },
   "outputs": [],
   "source": [
    "def sentiment_textblob(text):\n",
    "    sentiment = TextBlob(text).sentiment\n",
    "    return sentiment.polarity"
   ]
  },
  {
   "cell_type": "code",
   "execution_count": 29,
   "metadata": {
    "ExecuteTime": {
     "end_time": "2018-08-08T04:47:13.429351Z",
     "start_time": "2018-08-08T04:47:13.424575Z"
    }
   },
   "outputs": [
    {
     "data": {
      "text/plain": [
       "0    With all this stuff going down at the moment with MJ i've started listening to his music, watching the odd documentary here and there, watched The Wiz and watched Moonwalker again. Maybe i just want to get a certain insight into this guy who i thought was really cool in the eighties just to maybe make up my mind whether he is guilty or innocent. Moonwalker is part biography, part feature film which i remember going to see at the cinema when it was originally released. Some of it has subtle m...\n",
       "1    \\The Classic War of the Worlds\\\" by Timothy Hines is a very entertaining film that obviously goes to great effort and lengths to faithfully recreate H. G. Wells' classic book. Mr. Hines succeeds in doing so. I, and those who watched his film with me, appreciated the fact that it was not the standard, predictable Hollywood fare that comes out every year, e.g. the Spielberg version with Tom Cruise that had only the slightest resemblance to the book. Obviously, everyone looks for different thin...\n",
       "2    The film starts with a manager (Nicholas Bell) giving welcome investors (Robert Carradine) to Primal Park . A secret project mutating a primal animal using fossilized DNA, like ¨Jurassik Park¨, and some scientists resurrect one of nature's most fearsome predators, the Sabretooth tiger or Smilodon . Scientific ambition turns deadly, however, and when the high voltage fence is opened the creature escape and begins savagely stalking its prey - the human visitors , tourists and scientific.Meanwh...\n",
       "3    It must be assumed that those who praised this film (\\the greatest filmed opera ever,\\\" didn't I read somewhere?) either don't care for opera, don't care for Wagner, or don't care about anything except their desire to appear Cultured. Either as a representation of Wagner's swan-song, or as a movie, this strikes me as an unmitigated disaster, with a leaden reading of the score matched to a tricksy, lugubrious realisation of the text.It's questionable that people with ideas as to what an opera...\n",
       "4    Superbly trashy and wondrously unpretentious 80's exploitation, hooray! The pre-credits opening sequences somewhat give the false impression that we're dealing with a serious and harrowing drama, but you need not fear because barely ten minutes later we're up until our necks in nonsensical chainsaw battles, rough fist-fights, lurid dialogs and gratuitous nudity! Bo and Ingrid are two orphaned siblings with an unusually close and even slightly perverted relationship. Can you imagine playfully...\n",
       "Name: review, dtype: object"
      ]
     },
     "execution_count": 29,
     "metadata": {},
     "output_type": "execute_result"
    }
   ],
   "source": [
    "df['review'].head()"
   ]
  },
  {
   "cell_type": "code",
   "execution_count": 30,
   "metadata": {
    "ExecuteTime": {
     "end_time": "2018-08-08T04:42:54.841591Z",
     "start_time": "2018-08-08T04:42:54.837855Z"
    }
   },
   "outputs": [
    {
     "data": {
      "text/plain": [
       "Index(['id', 'sentiment', 'review', 'processed'], dtype='object')"
      ]
     },
     "execution_count": 30,
     "metadata": {},
     "output_type": "execute_result"
    }
   ],
   "source": [
    "df.columns"
   ]
  },
  {
   "cell_type": "code",
   "execution_count": null,
   "metadata": {
    "ExecuteTime": {
     "end_time": "2018-08-08T05:43:13.251719Z",
     "start_time": "2018-08-08T05:43:13.093675Z"
    }
   },
   "outputs": [],
   "source": [
    "#df['sentiment_textblob'] = swiftapply( df['processed'].to_string(), sentiment_textblob)\n",
    "df['sentiment_textblob'] = df['processed'].apply(sentiment_textblob)"
   ]
  },
  {
   "cell_type": "code",
   "execution_count": null,
   "metadata": {
    "ExecuteTime": {
     "end_time": "2018-08-08T04:50:55.473879Z",
     "start_time": "2018-08-08T04:50:55.467192Z"
    }
   },
   "outputs": [],
   "source": [
    "metrics.accuracy_score(y_true=df[\"sentiment\"], y_pred=df['sentiment_textblob'] > 0.2)"
   ]
  },
  {
   "cell_type": "code",
   "execution_count": null,
   "metadata": {
    "ExecuteTime": {
     "end_time": "2018-08-08T04:50:57.165639Z",
     "start_time": "2018-08-08T04:50:57.098814Z"
    }
   },
   "outputs": [],
   "source": [
    "metrics.confusion_matrix(y_true=df[\"sentiment\"]\n",
    "                         , y_pred=df['sentiment_textblob'] > 0.2\n",
    "                         )"
   ]
  },
  {
   "cell_type": "code",
   "execution_count": null,
   "metadata": {},
   "outputs": [],
   "source": []
  },
  {
   "cell_type": "code",
   "execution_count": null,
   "metadata": {
    "ExecuteTime": {
     "end_time": "2018-08-08T05:24:17.501221Z",
     "start_time": "2018-08-08T05:24:17.492656Z"
    }
   },
   "outputs": [],
   "source": [
    "X = df['review']\n",
    "y = df['sentiment']\n",
    "X_train, X_test, y_train, y_test = train_test_split(X, y, )"
   ]
  },
  {
   "cell_type": "code",
   "execution_count": null,
   "metadata": {},
   "outputs": [],
   "source": []
  },
  {
   "cell_type": "markdown",
   "metadata": {},
   "source": [
    "# Google Cloud Sentiment Analysis"
   ]
  },
  {
   "cell_type": "markdown",
   "metadata": {},
   "source": [
    "[Demo Page](https://cloud.google.com/natural-language/)"
   ]
  },
  {
   "cell_type": "markdown",
   "metadata": {},
   "source": [
    "[Pricing](https://cloud.google.com/natural-language/)"
   ]
  },
  {
   "cell_type": "markdown",
   "metadata": {},
   "source": [
    "- 5k requests, 1$ (upto 1M requests)\n",
    "- 1 request, can contain upto 1000 characters"
   ]
  },
  {
   "cell_type": "markdown",
   "metadata": {},
   "source": [
    "How much would our dataset count for?"
   ]
  },
  {
   "cell_type": "code",
   "execution_count": null,
   "metadata": {},
   "outputs": [],
   "source": [
    "# get characther count for each row, count up\n",
    "num_requests = np.ceil(df[\"review\"].str.len()/1000)\n",
    "print (f\"Row 1 will count as {num_requests.iloc[0]} docs\")\n",
    "total_number_of_doc_requests = num_requests.sum()\n",
    "print(f\"We will be making {total_number_of_doc_requests} requests\")\n",
    "total_cost = total_number_of_doc_requests/5000\n",
    "print(f\"Project will cost {total_cost} \")"
   ]
  },
  {
   "cell_type": "code",
   "execution_count": null,
   "metadata": {},
   "outputs": [],
   "source": []
  },
  {
   "cell_type": "code",
   "execution_count": null,
   "metadata": {},
   "outputs": [],
   "source": []
  },
  {
   "cell_type": "code",
   "execution_count": null,
   "metadata": {},
   "outputs": [],
   "source": []
  },
  {
   "cell_type": "markdown",
   "metadata": {},
   "source": [
    "# Naive Bayes"
   ]
  },
  {
   "cell_type": "code",
   "execution_count": null,
   "metadata": {
    "ExecuteTime": {
     "end_time": "2018-08-08T05:56:48.575124Z",
     "start_time": "2018-08-08T05:56:48.568891Z"
    }
   },
   "outputs": [],
   "source": [
    "from sklearn.pipeline import Pipeline\n",
    "from sklearn.feature_extraction.text import CountVectorizer, TfidfTransformer\n",
    "from sklearn.linear_model import SGDClassifier"
   ]
  },
  {
   "cell_type": "code",
   "execution_count": null,
   "metadata": {
    "ExecuteTime": {
     "end_time": "2018-08-08T12:41:31.920025Z",
     "start_time": "2018-08-08T12:41:31.916453Z"
    }
   },
   "outputs": [],
   "source": [
    "# classifier\n",
    "pipeline = Pipeline([\n",
    "    ('vect', CountVectorizer()),\n",
    "    ('tfidf', TfidfTransformer()),\n",
    "    ('clf', SGDClassifier(loss=\"log\")),\n",
    "])"
   ]
  },
  {
   "cell_type": "code",
   "execution_count": null,
   "metadata": {
    "ExecuteTime": {
     "end_time": "2018-08-08T12:41:43.053646Z",
     "start_time": "2018-08-08T12:41:39.204861Z"
    }
   },
   "outputs": [],
   "source": [
    "pipeline.fit(X=X_train,y=y_train)"
   ]
  },
  {
   "cell_type": "code",
   "execution_count": null,
   "metadata": {
    "ExecuteTime": {
     "end_time": "2018-08-08T12:41:43.139990Z",
     "start_time": "2018-08-08T12:41:43.055783Z"
    }
   },
   "outputs": [],
   "source": [
    "feature_names = pipeline.named_steps[\"vect\"].get_feature_names()"
   ]
  },
  {
   "cell_type": "code",
   "execution_count": null,
   "metadata": {
    "ExecuteTime": {
     "end_time": "2018-08-08T12:41:43.144895Z",
     "start_time": "2018-08-08T12:41:43.142321Z"
    }
   },
   "outputs": [],
   "source": [
    "coefficients = pipeline.named_steps[\"clf\"].coef_[0]"
   ]
  },
  {
   "cell_type": "code",
   "execution_count": null,
   "metadata": {
    "ExecuteTime": {
     "end_time": "2018-08-08T12:41:43.178892Z",
     "start_time": "2018-08-08T12:41:43.147255Z"
    }
   },
   "outputs": [],
   "source": [
    "analysis_df = pd.DataFrame({'feature_names':feature_names, 'coefficients':coefficients})\n",
    "analysis_df['abs'] = np.abs(analysis_df['coefficients'])\n",
    "analysis_df= analysis_df.sort_values(by=['abs'],ascending=False)"
   ]
  },
  {
   "cell_type": "code",
   "execution_count": null,
   "metadata": {
    "ExecuteTime": {
     "end_time": "2018-08-08T12:41:43.190008Z",
     "start_time": "2018-08-08T12:41:43.181495Z"
    }
   },
   "outputs": [],
   "source": [
    "analysis_df.head()"
   ]
  },
  {
   "cell_type": "code",
   "execution_count": null,
   "metadata": {
    "ExecuteTime": {
     "end_time": "2018-08-08T12:41:49.845346Z",
     "start_time": "2018-08-08T12:41:49.841476Z"
    }
   },
   "outputs": [],
   "source": [
    "len(analysis_df)"
   ]
  },
  {
   "cell_type": "code",
   "execution_count": null,
   "metadata": {},
   "outputs": [],
   "source": [
    "top_words_df=analysis_df.head(20).sort_values(by=['coefficients'])\n",
    "colors = list(np.where(top_words_df[\"coefficients\"]>0, 'g', 'r'))"
   ]
  },
  {
   "cell_type": "code",
   "execution_count": null,
   "metadata": {},
   "outputs": [],
   "source": []
  },
  {
   "cell_type": "code",
   "execution_count": null,
   "metadata": {
    "ExecuteTime": {
     "end_time": "2018-08-08T12:41:50.468414Z",
     "start_time": "2018-08-08T12:41:50.203817Z"
    }
   },
   "outputs": [],
   "source": [
    "top_words_df.plot.barh(y=\"coefficients\",x=\"feature_names\", color=colors)"
   ]
  },
  {
   "cell_type": "code",
   "execution_count": null,
   "metadata": {
    "ExecuteTime": {
     "end_time": "2018-08-08T12:42:08.783401Z",
     "start_time": "2018-08-08T12:42:07.538517Z"
    }
   },
   "outputs": [],
   "source": [
    "predicted = pipeline.predict(X_test)"
   ]
  },
  {
   "cell_type": "code",
   "execution_count": null,
   "metadata": {
    "ExecuteTime": {
     "end_time": "2018-08-08T12:42:10.189327Z",
     "start_time": "2018-08-08T12:42:10.179531Z"
    }
   },
   "outputs": [],
   "source": [
    "metrics.confusion_matrix(y_true=y_test\n",
    "                         , y_pred=predicted\n",
    "                         )"
   ]
  },
  {
   "cell_type": "code",
   "execution_count": null,
   "metadata": {
    "ExecuteTime": {
     "end_time": "2018-08-08T12:42:12.305658Z",
     "start_time": "2018-08-08T12:42:12.300342Z"
    }
   },
   "outputs": [],
   "source": [
    "metrics.accuracy_score(y_true=y_test\n",
    "                         , y_pred=predicted)"
   ]
  },
  {
   "cell_type": "code",
   "execution_count": null,
   "metadata": {
    "ExecuteTime": {
     "end_time": "2018-08-08T12:42:14.105689Z",
     "start_time": "2018-08-08T12:42:14.099079Z"
    }
   },
   "outputs": [],
   "source": [
    "print(metrics.classification_report(y_test, predicted))"
   ]
  },
  {
   "cell_type": "code",
   "execution_count": null,
   "metadata": {},
   "outputs": [],
   "source": []
  },
  {
   "cell_type": "markdown",
   "metadata": {},
   "source": [
    "# Deep Learning Model"
   ]
  },
  {
   "cell_type": "code",
   "execution_count": null,
   "metadata": {
    "ExecuteTime": {
     "end_time": "2018-08-08T05:45:55.520779Z",
     "start_time": "2018-08-08T05:45:55.518127Z"
    }
   },
   "outputs": [],
   "source": [
    "from keras.preprocessing.text import Tokenizer\n",
    "from keras.preprocessing.sequence import pad_sequences\n",
    "from keras.models import Sequential"
   ]
  },
  {
   "cell_type": "code",
   "execution_count": null,
   "metadata": {
    "ExecuteTime": {
     "end_time": "2018-08-08T12:56:48.789521Z",
     "start_time": "2018-08-08T12:56:48.781457Z"
    }
   },
   "outputs": [],
   "source": [
    "X = df['review']\n",
    "y = df['sentiment']\n",
    "X_train, X_test, y_train, y_test = train_test_split(X, y, )"
   ]
  },
  {
   "cell_type": "code",
   "execution_count": null,
   "metadata": {
    "ExecuteTime": {
     "end_time": "2018-08-08T12:59:56.498837Z",
     "start_time": "2018-08-08T12:59:56.496065Z"
    },
    "colab": {
     "autoexec": {
      "startup": false,
      "wait_interval": 0
     }
    },
    "colab_type": "code",
    "id": "KRkvdjbopfaz"
   },
   "outputs": [],
   "source": [
    "top_words = 100000\n",
    "embedding_vecor_length = 50\n",
    "max_review_length = 500\n",
    "droput = 0.2\n",
    "lstm_units = 10"
   ]
  },
  {
   "cell_type": "code",
   "execution_count": null,
   "metadata": {
    "ExecuteTime": {
     "end_time": "2018-08-08T13:04:56.650652Z",
     "start_time": "2018-08-08T13:04:56.647856Z"
    }
   },
   "outputs": [],
   "source": [
    "def prepare_input_for_dl(tokenizer, docs, max_len=max_review_length,):\n",
    "    \"\"\"\n",
    "    Given a tokenizerm convert text to \n",
    "    \"\"\"\n",
    "    sequences = tokenizer.texts_to_sequences(docs)\n",
    "    sequences = sequence.pad_sequences(sequences, maxlen=max_len)\n",
    "    return sequences"
   ]
  },
  {
   "cell_type": "code",
   "execution_count": null,
   "metadata": {
    "ExecuteTime": {
     "end_time": "2018-08-08T13:05:00.773048Z",
     "start_time": "2018-08-08T13:04:57.287263Z"
    },
    "colab": {
     "autoexec": {
      "startup": false,
      "wait_interval": 0
     }
    },
    "colab_type": "code",
    "id": "ZheuF25wpfqq"
   },
   "outputs": [],
   "source": [
    "tokenizer = Tokenizer(num_words= top_words)\n",
    "tokenizer.fit_on_texts(X_train)"
   ]
  },
  {
   "cell_type": "code",
   "execution_count": null,
   "metadata": {
    "ExecuteTime": {
     "end_time": "2018-08-08T13:05:06.572945Z",
     "start_time": "2018-08-08T13:05:02.308068Z"
    }
   },
   "outputs": [],
   "source": [
    "_X_train = prepare_input_for_dl( tokenizer, X_train )\n",
    "_X_test  = prepare_input_for_dl( tokenizer, X_test  )"
   ]
  },
  {
   "cell_type": "code",
   "execution_count": null,
   "metadata": {
    "ExecuteTime": {
     "end_time": "2018-08-08T13:05:06.896897Z",
     "start_time": "2018-08-08T13:05:06.575115Z"
    },
    "colab": {
     "autoexec": {
      "startup": false,
      "wait_interval": 0
     }
    },
    "colab_type": "code",
    "id": "JnltM2AMniUb"
   },
   "outputs": [],
   "source": [
    "model = Sequential()\n",
    "model.add(Embedding(top_words, embedding_vecor_length, input_length=max_review_length))\n",
    "model.add(LSTM(lstm_units, dropout=droput, recurrent_dropout=droput))\n",
    "model.add(Dense(1, activation='sigmoid'))\n",
    "\n",
    "model.compile(loss='binary_crossentropy', optimizer='adam', metrics=['accuracy'])\n"
   ]
  },
  {
   "cell_type": "code",
   "execution_count": null,
   "metadata": {
    "ExecuteTime": {
     "end_time": "2018-08-08T13:05:07.656239Z",
     "start_time": "2018-08-08T13:05:07.651681Z"
    },
    "colab": {
     "autoexec": {
      "startup": false,
      "wait_interval": 0
     }
    },
    "colab_type": "code",
    "id": "qhOmrD5JpigN"
   },
   "outputs": [],
   "source": [
    "print(model.summary())"
   ]
  },
  {
   "cell_type": "code",
   "execution_count": null,
   "metadata": {
    "ExecuteTime": {
     "end_time": "2018-08-08T13:05:10.214788Z",
     "start_time": "2018-08-08T13:05:10.211231Z"
    }
   },
   "outputs": [],
   "source": [
    "_X_train.shape"
   ]
  },
  {
   "cell_type": "code",
   "execution_count": null,
   "metadata": {
    "ExecuteTime": {
     "end_time": "2018-08-08T13:05:11.822950Z",
     "start_time": "2018-08-08T13:05:11.818827Z"
    }
   },
   "outputs": [],
   "source": [
    "y_train.shape"
   ]
  },
  {
   "cell_type": "code",
   "execution_count": null,
   "metadata": {
    "ExecuteTime": {
     "end_time": "2018-08-08T13:07:52.527024Z",
     "start_time": "2018-08-08T13:05:13.557849Z"
    }
   },
   "outputs": [],
   "source": [
    "model.fit(_X_train, y_train, epochs=3, batch_size=256)"
   ]
  },
  {
   "cell_type": "code",
   "execution_count": null,
   "metadata": {
    "ExecuteTime": {
     "end_time": "2018-08-08T13:03:16.704094Z",
     "start_time": "2018-08-08T13:03:02.240572Z"
    }
   },
   "outputs": [],
   "source": [
    "predicted = model.predict_classes(_X_test)"
   ]
  },
  {
   "cell_type": "code",
   "execution_count": null,
   "metadata": {
    "ExecuteTime": {
     "end_time": "2018-08-08T13:03:17.501121Z",
     "start_time": "2018-08-08T13:03:17.491475Z"
    }
   },
   "outputs": [],
   "source": [
    "metrics.confusion_matrix(y_true=y_test\n",
    "                         , y_pred=predicted\n",
    "                         )"
   ]
  },
  {
   "cell_type": "code",
   "execution_count": null,
   "metadata": {
    "ExecuteTime": {
     "end_time": "2018-08-08T06:07:27.161371Z",
     "start_time": "2018-08-08T06:07:27.155246Z"
    }
   },
   "outputs": [],
   "source": [
    "metrics.accuracy_score(y_true=y_test\n",
    "                         , y_pred=predicted)"
   ]
  },
  {
   "cell_type": "code",
   "execution_count": null,
   "metadata": {},
   "outputs": [],
   "source": []
  },
  {
   "cell_type": "code",
   "execution_count": null,
   "metadata": {
    "ExecuteTime": {
     "end_time": "2018-08-08T05:57:51.097940Z",
     "start_time": "2018-08-08T05:57:35.061160Z"
    }
   },
   "outputs": [],
   "source": [
    "# Final evaluation of the model\n",
    "scores = model.evaluate(_X_test, y_test, verbose=0)\n",
    "print(\"Accuracy: %.2f%%\" % (scores[1]*100))"
   ]
  },
  {
   "cell_type": "code",
   "execution_count": null,
   "metadata": {
    "ExecuteTime": {
     "end_time": "2018-08-08T06:19:43.740781Z",
     "start_time": "2018-08-08T06:19:43.731069Z"
    }
   },
   "outputs": [],
   "source": [
    "df.head(7)"
   ]
  },
  {
   "cell_type": "code",
   "execution_count": null,
   "metadata": {
    "ExecuteTime": {
     "end_time": "2018-08-08T06:20:03.710250Z",
     "start_time": "2018-08-08T06:20:03.633436Z"
    }
   },
   "outputs": [],
   "source": [
    "model.predict_proba([np.expand_dims(_X_train[6], axis=0)])"
   ]
  },
  {
   "cell_type": "code",
   "execution_count": null,
   "metadata": {
    "ExecuteTime": {
     "end_time": "2018-08-08T06:14:54.688812Z",
     "start_time": "2018-08-08T06:14:54.685030Z"
    }
   },
   "outputs": [],
   "source": [
    "_X_train.shape"
   ]
  },
  {
   "cell_type": "code",
   "execution_count": null,
   "metadata": {
    "ExecuteTime": {
     "end_time": "2018-08-08T06:17:54.321979Z",
     "start_time": "2018-08-08T06:17:54.318273Z"
    }
   },
   "outputs": [],
   "source": [
    "np.expand_dims(_X_train[0], axis=0).shape"
   ]
  },
  {
   "cell_type": "code",
   "execution_count": null,
   "metadata": {
    "ExecuteTime": {
     "end_time": "2018-08-08T06:18:40.679675Z",
     "start_time": "2018-08-08T06:18:40.648465Z"
    }
   },
   "outputs": [],
   "source": [
    "?Tokenizer"
   ]
  },
  {
   "cell_type": "code",
   "execution_count": null,
   "metadata": {},
   "outputs": [],
   "source": []
  },
  {
   "cell_type": "markdown",
   "metadata": {},
   "source": [
    "# Predictions"
   ]
  },
  {
   "cell_type": "code",
   "execution_count": null,
   "metadata": {
    "ExecuteTime": {
     "end_time": "2018-08-08T12:38:29.225652Z",
     "start_time": "2018-08-08T12:38:29.216383Z"
    }
   },
   "outputs": [],
   "source": [
    "df.sentiment.value_counts()"
   ]
  },
  {
   "cell_type": "code",
   "execution_count": null,
   "metadata": {
    "ExecuteTime": {
     "end_time": "2018-08-08T12:39:33.239272Z",
     "start_time": "2018-08-08T12:39:33.236748Z"
    }
   },
   "outputs": [],
   "source": [
    "sample_sentence = \"this movie is horrible\""
   ]
  },
  {
   "cell_type": "code",
   "execution_count": null,
   "metadata": {
    "ExecuteTime": {
     "end_time": "2018-08-08T12:42:47.954462Z",
     "start_time": "2018-08-08T12:42:47.904277Z"
    }
   },
   "outputs": [],
   "source": [
    "TextBlob(sample_sentence).sentiment"
   ]
  },
  {
   "cell_type": "code",
   "execution_count": null,
   "metadata": {
    "ExecuteTime": {
     "end_time": "2018-08-08T12:42:24.792938Z",
     "start_time": "2018-08-08T12:42:24.787262Z"
    }
   },
   "outputs": [],
   "source": [
    "pipeline.predict_proba([sample_sentence])"
   ]
  },
  {
   "cell_type": "code",
   "execution_count": null,
   "metadata": {},
   "outputs": [],
   "source": [
    "model.predict_proba(\n",
    "    prepare_input_for_dl(tokenizer, [sample_sentence], max_len=max_review_length)\n",
    ")"
   ]
  },
  {
   "cell_type": "code",
   "execution_count": null,
   "metadata": {},
   "outputs": [],
   "source": []
  },
  {
   "cell_type": "code",
   "execution_count": null,
   "metadata": {},
   "outputs": [],
   "source": []
  },
  {
   "cell_type": "code",
   "execution_count": null,
   "metadata": {},
   "outputs": [],
   "source": []
  },
  {
   "cell_type": "code",
   "execution_count": null,
   "metadata": {},
   "outputs": [],
   "source": []
  }
 ],
 "metadata": {
  "colab": {
   "default_view": {},
   "name": "sentiment analysis lstm",
   "provenance": [],
   "version": "0.3.2",
   "views": {}
  },
  "kernelspec": {
   "display_name": "Python 3",
   "language": "python",
   "name": "python3"
  },
  "language_info": {
   "codemirror_mode": {
    "name": "ipython",
    "version": 3
   },
   "file_extension": ".py",
   "mimetype": "text/x-python",
   "name": "python",
   "nbconvert_exporter": "python",
   "pygments_lexer": "ipython3",
   "version": "3.6.5"
  }
 },
 "nbformat": 4,
 "nbformat_minor": 1
}
